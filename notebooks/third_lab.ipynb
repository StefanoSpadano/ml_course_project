{
 "cells": [
  {
   "cell_type": "markdown",
   "id": "0e462d57-acd5-42a0-845d-988804fc0a0e",
   "metadata": {},
   "source": [
    "# Gradient descent for linear regression\n",
    "\n",
    "In this notebook the process of finding optimal values for w and b will be automated."
   ]
  },
  {
   "cell_type": "code",
   "execution_count": 15,
   "id": "d115d2bd-870f-4376-8d3d-7e36b7439416",
   "metadata": {},
   "outputs": [],
   "source": [
    "import math, copy\n",
    "import numpy as np\n",
    "import matplotlib.pyplot as plt"
   ]
  },
  {
   "cell_type": "code",
   "execution_count": 16,
   "id": "b7feb7d8-22d2-4d17-a63f-1cfbdffe80d2",
   "metadata": {},
   "outputs": [],
   "source": [
    "#use the same data as the previous notebooks\n",
    "#x_training is the size of the house expressed in square meters; here acts as the input variable\n",
    "#y_training is the price of the house expressed in euros \n",
    "#and is written as the product between the square meters size of the house and the average price for that neighborood of the city;\n",
    "#here it acts as the output variable\n",
    "x_training = np.array([45, 75, 100, 120, 150, 200])\n",
    "y_training = np.array([45*2100, 75*2100, 100*2563, 120*1615, 150*2100, 200*2100])"
   ]
  },
  {
   "cell_type": "code",
   "execution_count": 17,
   "id": "250ff256-7209-4362-b652-9d065e9b1f1d",
   "metadata": {},
   "outputs": [],
   "source": [
    "#reuse the function defined earlier\n",
    "def compute_cost(x, y, w, b):\n",
    "   \n",
    "    m = x.shape[0] \n",
    "    cost = 0\n",
    "    \n",
    "    for i in range(m):\n",
    "        f_wb = w * x[i] + b\n",
    "        cost = cost + (f_wb - y[i])**2\n",
    "    total_cost = 1 / (2 * m) * cost\n",
    "\n",
    "    return total_cost"
   ]
  },
  {
   "cell_type": "markdown",
   "id": "2a1ac374-c242-458d-ab2a-7e660e713acf",
   "metadata": {},
   "source": [
    "Gradient descent is usually defined in this way: \n",
    "- repeat until convergence\n",
    "- $w = w - \\alpha\\frac{\\partial J(w,b)}{\\partial w}$\n",
    "- $b = b -\\alpha\\frac{\\partial J(w,b)}{\\partial b}$\n",
    "with parameters w and b that are updated simultaneously. In this way the gradient is defined as:\n",
    "- $\\frac{\\partial J(w,b)}{\\partial w} = \\frac{1}{m}\\sum_{i}(f_{w,b}(x^{i})-y^{i})x^{i}$\n",
    "- $\\frac{\\partial J(w,b)}{\\partial b} = \\frac{1}{m}\\sum_{i}(f_{w,b}(x^{i})-y^{i})$\n",
    "and simultaneously here means that the derivatives are calculated for all the parameters before updating any of the parameters."
   ]
  },
  {
   "cell_type": "markdown",
   "id": "6d4dd18f-d021-46a2-bfcd-f1910a06dbd8",
   "metadata": {},
   "source": [
    "We will define other two functions in order to implement gradient descent for one feature:\n",
    "- compute gradient\n",
    "- gradient descent"
   ]
  },
  {
   "cell_type": "code",
   "execution_count": 18,
   "id": "88c4a007-3f13-4259-be49-f68713364dcf",
   "metadata": {},
   "outputs": [],
   "source": [
    "def compute_gradient(x, y, w, b): \n",
    "    \"\"\"\n",
    "    Computes the gradient for linear regression \n",
    "    Args:\n",
    "      x (ndarray (m,)): Data, m examples \n",
    "      y (ndarray (m,)): target values\n",
    "      w,b (scalar)    : model parameters  \n",
    "    Returns\n",
    "      dj_dw (scalar): The gradient of the cost w.r.t. the parameters w\n",
    "      dj_db (scalar): The gradient of the cost w.r.t. the parameter b     \n",
    "     \"\"\"\n",
    "    \n",
    "    # Number of training examples\n",
    "    m = x.shape[0]    \n",
    "    dj_dw = 0\n",
    "    dj_db = 0\n",
    "    \n",
    "    for i in range(m):  \n",
    "        f_wb = w * x[i] + b \n",
    "        dj_dw_i = (f_wb - y[i]) * x[i] \n",
    "        dj_db_i = f_wb - y[i] \n",
    "        dj_db += dj_db_i\n",
    "        dj_dw += dj_dw_i \n",
    "    dj_dw = dj_dw / m \n",
    "    dj_db = dj_db / m \n",
    "        \n",
    "    return dj_dw, dj_db"
   ]
  },
  {
   "cell_type": "code",
   "execution_count": 19,
   "id": "1cf6ccbc-5b3c-4d81-989a-360786fb34b5",
   "metadata": {},
   "outputs": [],
   "source": [
    "def gradient_descent(x, y, w_in, b_in, alpha, num_iters, cost_function, gradient_function): \n",
    "    \"\"\"\n",
    "    Performs gradient descent to fit w,b. Updates w,b by taking \n",
    "    num_iters gradient steps with learning rate alpha\n",
    "    \n",
    "    Args:\n",
    "      x (ndarray (m,))  : Data, m examples \n",
    "      y (ndarray (m,))  : target values\n",
    "      w_in,b_in (scalar): initial values of model parameters  \n",
    "      alpha (float):     Learning rate\n",
    "      num_iters (int):   number of iterations to run gradient descent\n",
    "      cost_function:     function to call to produce cost\n",
    "      gradient_function: function to call to produce gradient\n",
    "      \n",
    "    Returns:\n",
    "      w (scalar): Updated value of parameter after running gradient descent\n",
    "      b (scalar): Updated value of parameter after running gradient descent\n",
    "      J_history (List): History of cost values\n",
    "      p_history (list): History of parameters [w,b] \n",
    "      \"\"\"\n",
    "    \n",
    "    # An array to store cost J and w's at each iteration primarily for graphing later\n",
    "    J_history = []\n",
    "    p_history = []\n",
    "    b = b_in\n",
    "    w = w_in\n",
    "    \n",
    "    for i in range(num_iters):\n",
    "        # Calculate the gradient and update the parameters using gradient_function\n",
    "        dj_dw, dj_db = gradient_function(x, y, w , b)     \n",
    "\n",
    "        # Update Parameters using equation (3) above\n",
    "        b = b - alpha * dj_db                            \n",
    "        w = w - alpha * dj_dw                            \n",
    "\n",
    "        # Save cost J at each iteration\n",
    "        if i<100000:      # prevent resource exhaustion \n",
    "            J_history.append( cost_function(x, y, w , b))\n",
    "            p_history.append([w,b])\n",
    "        # Print cost every at intervals 10 times or as many iterations if < 10\n",
    "        if i% math.ceil(num_iters/10) == 0:\n",
    "            print(f\"Iteration {i:4}: Cost {J_history[-1]:0.2e} \",\n",
    "                  f\"dj_dw: {dj_dw: 0.3e}, dj_db: {dj_db: 0.3e}  \",\n",
    "                  f\"w: {w: 0.3e}, b:{b: 0.5e}\")\n",
    " \n",
    "    return w, b, J_history, p_history #return w and J,w history for graphing"
   ]
  },
  {
   "cell_type": "code",
   "execution_count": 25,
   "id": "f35bce93-6588-48e2-a98d-34c421eb995d",
   "metadata": {},
   "outputs": [
    {
     "name": "stdout",
     "output_type": "stream",
     "text": [
      "Iteration    0: Cost 3.37e+10  dj_dw: -1.024e+05, dj_db: -2.395e+05   w:  1.024e+03, b: 2.39517e+03\n",
      "Iteration 1000: Cost 4.54e+08  dj_dw: -4.422e+00, dj_db: -1.034e+01   w:  1.024e+05, b: 2.39506e+05\n",
      "Iteration 2000: Cost 4.54e+08  dj_dw: -1.909e-04, dj_db: -4.464e-04   w:  1.024e+05, b: 2.39517e+05\n",
      "Iteration 3000: Cost 4.54e+08  dj_dw: -8.261e-09, dj_db: -1.925e-08   w:  1.024e+05, b: 2.39517e+05\n",
      "Iteration 4000: Cost 4.54e+08  dj_dw: -7.200e-10, dj_db: -1.436e-09   w:  1.024e+05, b: 2.39517e+05\n",
      "Iteration 5000: Cost 4.54e+08  dj_dw: -7.200e-10, dj_db: -1.436e-09   w:  1.024e+05, b: 2.39517e+05\n",
      "Iteration 6000: Cost 4.54e+08  dj_dw: -7.200e-10, dj_db: -1.436e-09   w:  1.024e+05, b: 2.39517e+05\n",
      "Iteration 7000: Cost 4.54e+08  dj_dw: -7.200e-10, dj_db: -1.436e-09   w:  1.024e+05, b: 2.39517e+05\n",
      "Iteration 8000: Cost 4.54e+08  dj_dw: -7.200e-10, dj_db: -1.436e-09   w:  1.024e+05, b: 2.39517e+05\n",
      "Iteration 9000: Cost 4.54e+08  dj_dw: -7.200e-10, dj_db: -1.436e-09   w:  1.024e+05, b: 2.39517e+05\n",
      "(w,b) found by gradient descent: (102434.3655, 239516.6667)\n"
     ]
    }
   ],
   "source": [
    "\n",
    "# initialize parameters\n",
    "w_init = 0\n",
    "b_init = 0\n",
    "# scaling x values since in this way we can improve convergence by making the algorithm stable. I prefered scaling x values so\n",
    "#that the prediction remains in units are interpretable\n",
    "x_mean = np.mean(x_training)\n",
    "x_std = np.std(x_training)\n",
    "x_scaled = (x_training - x_mean) / x_std\n",
    "\n",
    "# keep y as is for now\n",
    "tmp_alpha = 1.0e-2   # should now be safe\n",
    "iterations = 10000\n",
    "\n",
    "w_final, b_final, J_hist, p_hist = gradient_descent(\n",
    "    x_scaled, y_training, 0, 0, tmp_alpha, iterations, compute_cost, compute_gradient\n",
    ")\n",
    "print(f\"(w,b) found by gradient descent: ({w_final:.4f}, {b_final:.4f})\")\n"
   ]
  },
  {
   "cell_type": "code",
   "execution_count": 24,
   "id": "ddf9ceea-41c6-40e4-9936-55458633ed01",
   "metadata": {},
   "outputs": [
    {
     "data": {
      "image/png": "[encoded data removed]",
      "text/plain": [
       "<Figure size 1200x400 with 2 Axes>"
      ]
     },
     "metadata": {},
     "output_type": "display_data"
    }
   ],
   "source": [
    "# plot cost versus iteration  \n",
    "fig, (ax1, ax2) = plt.subplots(1, 2, constrained_layout=True, figsize=(12,4))\n",
    "ax1.plot(J_hist[:100])\n",
    "ax2.plot(1000 + np.arange(len(J_hist[1000:])), J_hist[1000:])\n",
    "ax1.set_title(\"Cost vs. iteration(start)\");  ax2.set_title(\"Cost vs. iteration (end)\")\n",
    "ax1.set_ylabel('Cost')            ;  ax2.set_ylabel('Cost') \n",
    "ax1.set_xlabel('iteration step')  ;  ax2.set_xlabel('iteration step') \n",
    "plt.show()"
   ]
  },
  {
   "cell_type": "markdown",
   "id": "703284ba-ff95-4a1a-a0c1-a2a42bcafbf6",
   "metadata": {},
   "source": [
    "Another kind of attempt we could do is to set the learning rate at a higher value and see that happens with just some iterations"
   ]
  },
  {
   "cell_type": "code",
   "execution_count": 26,
   "id": "c1e873fb-4021-45cf-a16b-9205f30592a4",
   "metadata": {},
   "outputs": [
    {
     "name": "stdout",
     "output_type": "stream",
     "text": [
      "Iteration    0: Cost 1.81e+09  dj_dw: -1.024e+05, dj_db: -2.395e+05   w:  8.195e+04, b: 1.91613e+05\n",
      "Iteration    1: Cost 5.08e+08  dj_dw: -2.049e+04, dj_db: -4.790e+04   w:  9.834e+04, b: 2.29936e+05\n",
      "Iteration    2: Cost 4.56e+08  dj_dw: -4.097e+03, dj_db: -9.581e+03   w:  1.016e+05, b: 2.37601e+05\n",
      "Iteration    3: Cost 4.54e+08  dj_dw: -8.195e+02, dj_db: -1.916e+03   w:  1.023e+05, b: 2.39133e+05\n",
      "Iteration    4: Cost 4.54e+08  dj_dw: -1.639e+02, dj_db: -3.832e+02   w:  1.024e+05, b: 2.39440e+05\n",
      "Iteration    5: Cost 4.54e+08  dj_dw: -3.278e+01, dj_db: -7.665e+01   w:  1.024e+05, b: 2.39501e+05\n",
      "Iteration    6: Cost 4.54e+08  dj_dw: -6.556e+00, dj_db: -1.533e+01   w:  1.024e+05, b: 2.39514e+05\n",
      "Iteration    7: Cost 4.54e+08  dj_dw: -1.311e+00, dj_db: -3.066e+00   w:  1.024e+05, b: 2.39516e+05\n",
      "Iteration    8: Cost 4.54e+08  dj_dw: -2.622e-01, dj_db: -6.132e-01   w:  1.024e+05, b: 2.39517e+05\n",
      "Iteration    9: Cost 4.54e+08  dj_dw: -5.245e-02, dj_db: -1.226e-01   w:  1.024e+05, b: 2.39517e+05\n"
     ]
    }
   ],
   "source": [
    "# initialize parameters\n",
    "w_init = 0\n",
    "b_init = 0\n",
    "# set alpha to a large value\n",
    "iterations = 10\n",
    "tmp_alpha = 8.0e-1\n",
    "# run gradient descent\n",
    "w_final, b_final, J_hist, p_hist = gradient_descent(x_scaled ,y_training, w_init, b_init, tmp_alpha, \n",
    "                                                    iterations, compute_cost, compute_gradient)"
   ]
  },
  {
   "cell_type": "code",
   "execution_count": null,
   "id": "29c61807-8b6c-4dae-892e-a4ee74fbe43c",
   "metadata": {},
   "outputs": [],
   "source": []
  }
 ],
 "metadata": {
  "kernelspec": {
   "display_name": "Python 3 (ipykernel)",
   "language": "python",
   "name": "python3"
  },
  "language_info": {
   "codemirror_mode": {
    "name": "ipython",
    "version": 3
   },
   "file_extension": ".py",
   "mimetype": "text/x-python",
   "name": "python",
   "nbconvert_exporter": "python",
   "pygments_lexer": "ipython3",
   "version": "3.11.13"
  }
 },
 "nbformat": 4,
 "nbformat_minor": 5
}
