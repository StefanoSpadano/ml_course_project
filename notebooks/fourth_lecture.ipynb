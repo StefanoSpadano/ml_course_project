{
 "cells": [
  {
   "cell_type": "markdown",
   "id": "a71d476c-f9d2-4226-b89d-bce96ff52f4f",
   "metadata": {},
   "source": [
    "# Numpy and vectorization\n",
    "\n",
    "In this lecture will be given a brief introduction to numpy and its uses in scientific computing."
   ]
  },
  {
   "cell_type": "code",
   "execution_count": 2,
   "id": "58b43b5d-9b1e-463a-8519-a6500be94d20",
   "metadata": {},
   "outputs": [],
   "source": [
    "import numpy as np #standard way of importing numpy library\n",
    "import time #will be used later on"
   ]
  },
  {
   "cell_type": "markdown",
   "id": "9b9c80f5-e9f8-451a-a727-5b50f2fd4fc7",
   "metadata": {},
   "source": [
    "Numpy comes with numeric types, vectors, matrices (and their operations) extending the capabilities of base python computing. "
   ]
  },
  {
   "cell_type": "markdown",
   "id": "9531700f-823b-4cea-8063-bbf910efa14b",
   "metadata": {},
   "source": [
    "Vectors in general are ordered arrays of numbers; they are usually denoted with lower case bold letters, as $\\mathbf{x}$. The elements of a vector are all of the same type and they cannot contain both numbers and characters; their dimension is identified by the number of elements present in the array (mathematically their dimension is also called rank). The elements of a vector can be referenced with an index and while mathematically these elements run from 1 to n, in computer science the elements usually run from 0 to n-1."
   ]
  },
  {
   "cell_type": "markdown",
   "id": "cca0056a-486e-4bef-95dd-7ec2f65c50d4",
   "metadata": {},
   "source": [
    "## Numpy arrays \n",
    "\n",
    "Above the dimension was the number of elements in the vector while here dimension refers to the number of indexes of an array. So for example, a one dimensional, or 1-D array, has one index.\n",
    "Data creation routines in Numpy usually have a first parameter which is the shape of the object being defined; this can either be a single value, for a 1 dimensional array, or a tuple where we have to specify the shape of the array, like (n,m). Below there are some examples. \n"
   ]
  },
  {
   "cell_type": "code",
   "execution_count": 12,
   "id": "cf3c9b5f-85c7-4844-9c47-95998c94e564",
   "metadata": {},
   "outputs": [
    {
     "name": "stdout",
     "output_type": "stream",
     "text": [
      "[ True  True  True  True]\n",
      "[0. 0. 0. 0.]\n",
      "np.zeros((4,)) produces: b = [0. 0. 0. 0.], with shape (4,) and type float64\n",
      "np.random.random_sample(4) produces: c = [0.7220932  0.7483525  0.6039231  0.05264865] with shape (4,) and type float64\n"
     ]
    }
   ],
   "source": [
    "#Numpy routines allocating memory and fill arrays with values\n",
    "\n",
    "a = np.zeros(4)\n",
    "b = np.zeros((4,))\n",
    "print(a == b)\n",
    "print(a)\n",
    "print(f\"np.zeros((4,)) produces: b = {b}, with shape {b.shape} and type {b.dtype}\")\n",
    "c = np.random.random_sample(4)\n",
    "print(f\"np.random.random_sample(4) produces: c = {c} with shape {c.shape} and type {c.dtype}\")"
   ]
  },
  {
   "cell_type": "code",
   "execution_count": 13,
   "id": "76006de0-faa4-4eed-b5d3-c6cfa5039f6c",
   "metadata": {},
   "outputs": [
    {
     "name": "stdout",
     "output_type": "stream",
     "text": [
      "np.arange(4.):     d = [0. 1. 2. 3.], a shape = (4,), a data type = float64\n",
      "np.random.rand(4): e = [0.78862977 0.6337892  0.98095352 0.77504961], a shape = (4,), a data type = float64\n"
     ]
    }
   ],
   "source": [
    "d = np.arange(4.);              print(f\"np.arange(4.):     d = {d}, a shape = {d.shape}, a data type = {d.dtype}\")\n",
    "e = np.random.rand(4);          print(f\"np.random.rand(4): e = {e}, a shape = {e.shape}, a data type = {e.dtype}\")"
   ]
  },
  {
   "cell_type": "code",
   "execution_count": 18,
   "id": "92d64f91-5c6f-49eb-b30f-852e29ccf35c",
   "metadata": {},
   "outputs": [
    {
     "name": "stdout",
     "output_type": "stream",
     "text": [
      "np.array([5,4,3,2]):  f = [5 4 3 2],     a shape = (4,), a data type = int32\n",
      "np.array([5.,4,3,2]): g = [5. 4. 3. 2.], a shape = (4,), a data type = float64\n",
      "np.array(['a', 'b', 'c']) produces h = ['a' 'b' 'c'], with shape (3,) and type <U1\n"
     ]
    }
   ],
   "source": [
    "#NumPy routines which allocate memory and fill with user specified values\n",
    "f = np.array([5,4,3,2]);  print(f\"np.array([5,4,3,2]):  f = {f},     a shape = {f.shape}, a data type = {f.dtype}\")\n",
    "g = np.array([5.,4,3,2]); print(f\"np.array([5.,4,3,2]): g = {g}, a shape = {g.shape}, a data type = {g.dtype}\")\n",
    "h = np.array([\"a\", \"b\", \"c\"])\n",
    "print(f\"np.array(['a', 'b', 'c']) produces h = {h}, with shape {h.shape} and type {h.dtype}\")"
   ]
  },
  {
   "cell_type": "markdown",
   "id": "52046e0e-6558-4e81-ab62-3106b3ba651d",
   "metadata": {},
   "source": [
    "These have all created a one-dimensional vector with four elements. The routine `.shape` returns the dimensions and here we can see that their shape is `(4,)` indicating a 1-d array with 4 elements.  "
   ]
  },
  {
   "cell_type": "markdown",
   "id": "6c4ca79d-facd-4f2e-8b2f-1bef1cc3b49e",
   "metadata": {},
   "source": [
    "## Indexing\n",
    "\n",
    "Elements of vectors can be accessed via indexing and slicing; numpy provides a complete set of indexing and slicing routines. In this context indexing means referring to an element of the array and referring it by its position in the array; slicing instead means getting a subset of elements from the vector. \n"
   ]
  },
  {
   "cell_type": "code",
   "execution_count": 20,
   "id": "744471f4-ab4a-486a-9dee-c9da5ec8b4e1",
   "metadata": {},
   "outputs": [
    {
     "name": "stdout",
     "output_type": "stream",
     "text": [
      "[0 1 2 3 4 5 6 7 8 9]\n",
      "a[2].shape: () a[2]  = 2, Accessing an element returns a scalar\n",
      "a[-1] = 9\n",
      "The error message you'll see is:\n",
      "index 10 is out of bounds for axis 0 with size 10\n"
     ]
    }
   ],
   "source": [
    "#vector indexing operations on one dimensional vectors\n",
    "a = np.arange(10) #fill the vector a with numbers from 0 to 9\n",
    "print(a)\n",
    "\n",
    "#access an element\n",
    "print(f\"a[2].shape: {a[2].shape} a[2]  = {a[2]}, Accessing an element returns a scalar\")\n",
    "\n",
    "# access the last element, negative indexes count from the end\n",
    "print(f\"a[-1] = {a[-1]}\")\n",
    "\n",
    "#indexs must be within the range of the vector or they will produce and error; here the vector arrives at a[9]\n",
    "try:\n",
    "    c = a[10]\n",
    "except Exception as e:\n",
    "    print(\"The error message you'll see is:\")\n",
    "    print(e)"
   ]
  },
  {
   "cell_type": "code",
   "execution_count": null,
   "id": "ebdf8cfb-19cb-4c86-8987-ea9f66025fb7",
   "metadata": {},
   "outputs": [],
   "source": []
  }
 ],
 "metadata": {
  "kernelspec": {
   "display_name": "Python 3 (ipykernel)",
   "language": "python",
   "name": "python3"
  },
  "language_info": {
   "codemirror_mode": {
    "name": "ipython",
    "version": 3
   },
   "file_extension": ".py",
   "mimetype": "text/x-python",
   "name": "python",
   "nbconvert_exporter": "python",
   "pygments_lexer": "ipython3",
   "version": "3.11.13"
  }
 },
 "nbformat": 4,
 "nbformat_minor": 5
}
