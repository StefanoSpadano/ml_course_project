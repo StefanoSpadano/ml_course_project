{
 "cells": [
  {
   "cell_type": "markdown",
   "id": "a71d476c-f9d2-4226-b89d-bce96ff52f4f",
   "metadata": {},
   "source": [
    "# Numpy and vectorization\n",
    "\n",
    "In this lecture will be given a brief introduction to numpy and its uses in scientific computing."
   ]
  },
  {
   "cell_type": "code",
   "execution_count": 1,
   "id": "58b43b5d-9b1e-463a-8519-a6500be94d20",
   "metadata": {},
   "outputs": [],
   "source": [
    "import numpy as np #standard way of importing numpy library\n",
    "import time #will be used later on"
   ]
  },
  {
   "cell_type": "markdown",
   "id": "9b9c80f5-e9f8-451a-a727-5b50f2fd4fc7",
   "metadata": {},
   "source": [
    "Numpy comes with numeric types, vectors, matrices (and their operations) extending the capabilities of base python computing. "
   ]
  },
  {
   "cell_type": "markdown",
   "id": "9531700f-823b-4cea-8063-bbf910efa14b",
   "metadata": {},
   "source": [
    "Vectors in general are ordered arrays of numbers; they are usually denoted with lower case bold letters, as $\\mathbf{x}$. The elements of a vector are all of the same type and they cannot contain both numbers and characters; their dimension is identified by the number of elements present in the array (mathematically their dimension is also called rank). The elements of a vector can be referenced with an index and while mathematically these elements run from 1 to n, in computer science the elements usually run from 0 to n-1."
   ]
  },
  {
   "cell_type": "markdown",
   "id": "cca0056a-486e-4bef-95dd-7ec2f65c50d4",
   "metadata": {},
   "source": [
    "## Numpy arrays \n",
    "\n",
    "Above the dimension was the number of elements in the vector while here dimension refers to the number of indexes of an array. So for example, a one dimensional, or 1-D array, has one index.\n",
    "Data creation routines in Numpy usually have a first parameter which is the shape of the object being defined; this can either be a single value, for a 1 dimensional array, or a tuple where we have to specify the shape of the array, like (n,m). Below there are some examples. \n"
   ]
  },
  {
   "cell_type": "code",
   "execution_count": 2,
   "id": "cf3c9b5f-85c7-4844-9c47-95998c94e564",
   "metadata": {},
   "outputs": [
    {
     "name": "stdout",
     "output_type": "stream",
     "text": [
      "[ True  True  True  True]\n",
      "[0. 0. 0. 0.]\n",
      "np.zeros((4,)) produces: b = [0. 0. 0. 0.], with shape (4,) and type float64\n",
      "np.random.random_sample(4) produces: c = [0.62330553 0.4635631  0.48337888 0.36386885] with shape (4,) and type float64\n"
     ]
    }
   ],
   "source": [
    "#Numpy routines allocating memory and fill arrays with values\n",
    "\n",
    "a = np.zeros(4)\n",
    "b = np.zeros((4,))\n",
    "print(a == b)\n",
    "print(a)\n",
    "print(f\"np.zeros((4,)) produces: b = {b}, with shape {b.shape} and type {b.dtype}\")\n",
    "c = np.random.random_sample(4)\n",
    "print(f\"np.random.random_sample(4) produces: c = {c} with shape {c.shape} and type {c.dtype}\")"
   ]
  },
  {
   "cell_type": "code",
   "execution_count": 3,
   "id": "76006de0-faa4-4eed-b5d3-c6cfa5039f6c",
   "metadata": {},
   "outputs": [
    {
     "name": "stdout",
     "output_type": "stream",
     "text": [
      "np.arange(4.):     d = [0. 1. 2. 3.], a shape = (4,), a data type = float64\n",
      "np.random.rand(4): e = [0.01700695 0.89277124 0.47692234 0.66155338], a shape = (4,), a data type = float64\n"
     ]
    }
   ],
   "source": [
    "d = np.arange(4.);              print(f\"np.arange(4.):     d = {d}, a shape = {d.shape}, a data type = {d.dtype}\")\n",
    "e = np.random.rand(4);          print(f\"np.random.rand(4): e = {e}, a shape = {e.shape}, a data type = {e.dtype}\")"
   ]
  },
  {
   "cell_type": "code",
   "execution_count": 4,
   "id": "92d64f91-5c6f-49eb-b30f-852e29ccf35c",
   "metadata": {},
   "outputs": [
    {
     "name": "stdout",
     "output_type": "stream",
     "text": [
      "np.array([5,4,3,2]):  f = [5 4 3 2],     a shape = (4,), a data type = int32\n",
      "np.array([5.,4,3,2]): g = [5. 4. 3. 2.], a shape = (4,), a data type = float64\n",
      "np.array(['a', 'b', 'c']) produces h = ['a' 'b' 'c'], with shape (3,) and type <U1\n"
     ]
    }
   ],
   "source": [
    "#NumPy routines which allocate memory and fill with user specified values\n",
    "f = np.array([5,4,3,2]);  print(f\"np.array([5,4,3,2]):  f = {f},     a shape = {f.shape}, a data type = {f.dtype}\")\n",
    "g = np.array([5.,4,3,2]); print(f\"np.array([5.,4,3,2]): g = {g}, a shape = {g.shape}, a data type = {g.dtype}\")\n",
    "h = np.array([\"a\", \"b\", \"c\"])\n",
    "print(f\"np.array(['a', 'b', 'c']) produces h = {h}, with shape {h.shape} and type {h.dtype}\")"
   ]
  },
  {
   "cell_type": "markdown",
   "id": "52046e0e-6558-4e81-ab62-3106b3ba651d",
   "metadata": {},
   "source": [
    "These have all created a one-dimensional vector with four elements. The routine `.shape` returns the dimensions and here we can see that their shape is `(4,)` indicating a 1-d array with 4 elements.  "
   ]
  },
  {
   "cell_type": "markdown",
   "id": "6c4ca79d-facd-4f2e-8b2f-1bef1cc3b49e",
   "metadata": {},
   "source": [
    "## Indexing and slicing\n",
    "\n",
    "Elements of vectors can be accessed via indexing and slicing; numpy provides a complete set of indexing and slicing routines. In this context indexing means referring to an element of the array and referring it by its position in the array; slicing instead means getting a subset of elements from the vector. \n"
   ]
  },
  {
   "cell_type": "code",
   "execution_count": 5,
   "id": "744471f4-ab4a-486a-9dee-c9da5ec8b4e1",
   "metadata": {},
   "outputs": [
    {
     "name": "stdout",
     "output_type": "stream",
     "text": [
      "[0 1 2 3 4 5 6 7 8 9]\n",
      "a[2].shape: () a[2]  = 2, Accessing an element returns a scalar\n",
      "a[-1] = 9\n",
      "The error message you'll see is:\n",
      "index 10 is out of bounds for axis 0 with size 10\n"
     ]
    }
   ],
   "source": [
    "#vector indexing operations on one dimensional vectors\n",
    "a = np.arange(10) #fill the vector a with numbers from 0 to 9\n",
    "print(a)\n",
    "\n",
    "#access an element\n",
    "print(f\"a[2].shape: {a[2].shape} a[2]  = {a[2]}, Accessing an element returns a scalar\")\n",
    "\n",
    "# access the last element, negative indexes count from the end\n",
    "print(f\"a[-1] = {a[-1]}\")\n",
    "\n",
    "#indexs must be within the range of the vector or they will produce and error; here the vector arrives at a[9]\n",
    "try:\n",
    "    c = a[10]\n",
    "except Exception as e:\n",
    "    print(\"The error message you'll see is:\")\n",
    "    print(e)"
   ]
  },
  {
   "cell_type": "code",
   "execution_count": 14,
   "id": "ebdf8cfb-19cb-4c86-8987-ea9f66025fb7",
   "metadata": {},
   "outputs": [
    {
     "name": "stdout",
     "output_type": "stream",
     "text": [
      "a = [0 1 2 3 4 5 6 7 8 9]\n",
      "a[2:7:1] =  [2 3 4 5 6]\n",
      "a[1:8:3] =  [1 4 7]\n",
      "slicing b this way [1:2:1] gives this  ['a' 'b']\n",
      "a[2:7:2] =  [2 4 6]\n",
      "a[3:]    =  [3 4 5 6 7 8 9]\n",
      "a[:3]    =  [0 1 2]\n",
      "a[:]     =  [0 1 2 3 4 5 6 7 8 9]\n"
     ]
    }
   ],
   "source": [
    "#vector slicing operations work by using a set of three values (start:stop:step)\n",
    "a = np.arange(10)\n",
    "print(f\"a = {a}\")\n",
    "\n",
    "#access 5 consecutive elements (start:stop:step)\n",
    "c = a[2:7:1];     print(\"a[2:7:1] = \", c) #access elements from position 2 to position 7 in steps of 1\n",
    "\n",
    "c = a[1:8:3]; print(\"a[1:8:3] = \", c)\n",
    "\n",
    "b = np.array(['a', 'b', 'c'])\n",
    "b_sliced = b[0:2:1]; print(\"slicing b this way [1:2:1] gives this \", b_sliced) #from here we can see that it halts the spot before the stop parameter\n",
    "\n",
    "# access 3 elements separated by two \n",
    "c = a[2:7:2];     print(\"a[2:7:2] = \", c)\n",
    "\n",
    "# access all elements index 3 and above\n",
    "c = a[3:];        print(\"a[3:]    = \", c) #here the start is printed out\n",
    "\n",
    "# access all elements below index 3\n",
    "c = a[:3];        print(\"a[:3]    = \", c) #here again the stop is not printed out\n",
    "\n",
    "# access all elements\n",
    "c = a[:];         print(\"a[:]     = \", c) "
   ]
  },
  {
   "cell_type": "markdown",
   "id": "4a3d23e7-f664-4411-aaf2-b2684f0c72a1",
   "metadata": {},
   "source": [
    "## Vector operations\n",
    "\n",
    "We can apply to vectors most of the arithmetic, logical and comparison methods and these operations work on a element by element basis."
   ]
  },
  {
   "cell_type": "code",
   "execution_count": 15,
   "id": "f862868b-f8cf-4198-9865-ac1d841bae95",
   "metadata": {},
   "outputs": [
    {
     "name": "stdout",
     "output_type": "stream",
     "text": [
      "[0 4 0 8 0]\n"
     ]
    }
   ],
   "source": [
    "#sum of two vectors\n",
    "vec_1 = np.array([1, 2, 3, 4, 5])\n",
    "vec_2 = np.array([-1, 2, -3, 4, -5])\n",
    "vec_sum = vec_1 + vec_2\n",
    "print(vec_sum)"
   ]
  },
  {
   "cell_type": "code",
   "execution_count": 16,
   "id": "94f6ad7a-6ed9-4740-b6a7-b60dd05fa5ca",
   "metadata": {},
   "outputs": [
    {
     "name": "stdout",
     "output_type": "stream",
     "text": [
      "Mismatch between dimensions of vectors used gives this error: \n",
      "operands could not be broadcast together with shapes (5,) (4,) \n"
     ]
    }
   ],
   "source": [
    "smaller_vec = np.array([2, 3, 4, 5])\n",
    "e = \"\"\n",
    "try:\n",
    "    print(vec_1 + smaller_vec)\n",
    "except Exception as e:\n",
    "    print(\"Mismatch between dimensions of vectors used gives this error: \")\n",
    "    print(e)"
   ]
  },
  {
   "cell_type": "code",
   "execution_count": 18,
   "id": "fb50bca1-0cb2-48df-8b43-6dd8e4bcfcb3",
   "metadata": {},
   "outputs": [
    {
     "name": "stdout",
     "output_type": "stream",
     "text": [
      "vec_1 multiplied by a scalar quantity 5 gives [ 5 10 15 20 25]\n"
     ]
    }
   ],
   "source": [
    "vec_1_multiplied = 5 * vec_1\n",
    "print(f\"vec_1 multiplied by a scalar quantity 5 gives {vec_1_multiplied}\")"
   ]
  },
  {
   "cell_type": "markdown",
   "id": "376ec8b3-7f13-4b72-ab7e-00f2ea531da5",
   "metadata": {},
   "source": [
    "The dot product multiplies the values in two vectors element-wise and then sums the result; vector dot product requires the dimensions of the two vectors to be the same. Now I will try to implement a function which computes the dot product of two vectors of the same dimensions."
   ]
  },
  {
   "cell_type": "code",
   "execution_count": 19,
   "id": "f2ec4eb1-d960-41d6-bb7b-b525d971d21a",
   "metadata": {},
   "outputs": [],
   "source": [
    "def dot_product(a_vector, another_vector):\n",
    "    \"\"\"\n",
    "    Takes as input two vectors with the same dimensions (shape) and returns their dot product (a scalar)\n",
    "    \"\"\"\n",
    "    dot_product_result = 0 #initialize the dot product result before running the for loop\n",
    "    for i in range(a_vector.shape[0]):\n",
    "        dot_product_result = dot_product_result + a_vector[i]*another_vector[i]\n",
    "    return dot_product_result"
   ]
  },
  {
   "cell_type": "code",
   "execution_count": 21,
   "id": "ac0e7693-451a-44fe-b395-20c5b68c28af",
   "metadata": {},
   "outputs": [
    {
     "name": "stdout",
     "output_type": "stream",
     "text": [
      "-15\n",
      "the dot product of vec_1 and vec_2 is -15\n"
     ]
    }
   ],
   "source": [
    "dot_product_vec_1_vec_2 = dot_product(vec_1, vec_2)\n",
    "print(dot_product_vec_1_vec_2)\n",
    "\n",
    "#or equivalently\n",
    "\n",
    "print(f\"the dot product of vec_1 and vec_2 is {dot_product(vec_1, vec_2)}\")"
   ]
  },
  {
   "cell_type": "code",
   "execution_count": 24,
   "id": "538dfca2-4991-4c01-b8a3-31acfe6677b5",
   "metadata": {},
   "outputs": [
    {
     "name": "stdout",
     "output_type": "stream",
     "text": [
      "NumPy 1-D np.dot(vec_1, vec_2) = -15, np.dot(vec_1, vec_2).shape = () \n",
      "Numpy dot product (vec_2, vec_1) gives this as result -15 and has the same shape as before ()\n"
     ]
    }
   ],
   "source": [
    "# test np.dot routine\n",
    "\n",
    "dot_prod_vec_1_vec_2 = np.dot(vec_1, vec_2)\n",
    "print(f\"NumPy 1-D np.dot(vec_1, vec_2) = {dot_prod_vec_1_vec_2}, np.dot(vec_1, vec_2).shape = {dot_prod_vec_1_vec_2.shape} \") \n",
    "\n",
    "#being it a vector product, it works even the other way around\n",
    "\n",
    "dot_prod_other_way = np.dot(vec_2, vec_1)\n",
    "print(f\"Numpy dot product (vec_2, vec_1) gives this as result {dot_prod_other_way} and has the same shape as before {dot_prod_other_way.shape}\")"
   ]
  },
  {
   "cell_type": "markdown",
   "id": "c539235d-e63c-4691-bfc8-0f6756464162",
   "metadata": {},
   "source": [
    " ## np.dot vs for loop \n",
    "\n",
    " Numpy np.dot routine improves efficiency as we can see from this example below:"
   ]
  },
  {
   "cell_type": "code",
   "execution_count": 32,
   "id": "4bf9e96a-afb3-462e-8806-04652f9a1eae",
   "metadata": {},
   "outputs": [
    {
     "name": "stdout",
     "output_type": "stream",
     "text": [
      "the np.dot routine between the two large arrays just defined = 249825.0234\n",
      "Vectorized version duration: 0.0000 ms \n",
      "dot_product(a_large_array, another_large_array) =  249825.0234\n",
      "loop version duration: 748.5704 ms \n"
     ]
    }
   ],
   "source": [
    "#initialize a random seed\n",
    "np.random.seed(1)\n",
    "\n",
    "#define two large arrays\n",
    "\n",
    "a_large_array = np.random.rand(1000000)\n",
    "another_large_array = np.random.rand(1000000)\n",
    "\n",
    "tic = time.time()  # capture start time\n",
    "dot_product_between_two_large_arrays = np.dot(a_large_array, another_large_array)\n",
    "toc = time.time()  # capture end time\n",
    "\n",
    "print(f\"the np.dot routine between the two large arrays just defined = {dot_product_between_two_large_arrays:.4f}\") \n",
    "#4f here indicates the number of decimals after the comma\n",
    "\n",
    "#lets see how much time it took to compute that\n",
    "print(f\"Vectorized version duration: {1000*(toc-tic):.4f} ms \")\n",
    "\n",
    "tic = time.time()  # capture start time\n",
    "dot_prod_between_large_arrays_with_dot_prod_function = dot_product(a_large_array, another_large_array)\n",
    "toc = time.time()  # capture end time\n",
    "\n",
    "print(f\"dot_product(a_large_array, another_large_array) =  {dot_prod_between_large_arrays_with_dot_prod_function:.4f}\")\n",
    "print(f\"loop version duration: {1000*(toc-tic):.4f} ms \")\n",
    "\n",
    "del(a_large_array);del(another_large_array)  #remove these big arrays from memory"
   ]
  },
  {
   "cell_type": "code",
   "execution_count": null,
   "id": "c0d0c0f4-f6e0-4a5c-b843-fd247b8acd4a",
   "metadata": {},
   "outputs": [],
   "source": []
  }
 ],
 "metadata": {
  "kernelspec": {
   "display_name": "Python 3 (ipykernel)",
   "language": "python",
   "name": "python3"
  },
  "language_info": {
   "codemirror_mode": {
    "name": "ipython",
    "version": 3
   },
   "file_extension": ".py",
   "mimetype": "text/x-python",
   "name": "python",
   "nbconvert_exporter": "python",
   "pygments_lexer": "ipython3",
   "version": "3.11.13"
  }
 },
 "nbformat": 4,
 "nbformat_minor": 5
}
