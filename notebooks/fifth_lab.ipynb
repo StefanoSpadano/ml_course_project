{
 "cells": [
  {
   "cell_type": "markdown",
   "id": "bf7dca79-4946-405a-be12-3eeaa531f5f3",
   "metadata": {},
   "source": [
    "# Multiple variable linear regression\n",
    "\n",
    "During this lecture the linear regression model seen before will be extended to support multiple features:\n",
    "\n",
    "    - Extend data structures to support multiple features\n",
    "    - Rewrite prediction, cost and gradient routines to support multiple features\n",
    "    - Utilize NumPy `np.dot` to vectorize their implementations for speed and simplicity"
   ]
  },
  {
   "cell_type": "code",
   "execution_count": 1,
   "id": "0eeea2e3-b5c4-4f7b-8840-aa3797f5a66c",
   "metadata": {},
   "outputs": [],
   "source": [
    "import copy, math\n",
    "import numpy as np\n",
    "import matplotlib.pyplot as plt\n",
    "np.set_printoptions(precision=2)  # reduced display precision on numpy arrays"
   ]
  },
  {
   "cell_type": "markdown",
   "id": "b740f9b8-ada6-4cae-9599-70575f301233",
   "metadata": {},
   "source": [
    "## Problem statement\n",
    "\n",
    "In this lab will still be used the example we were following before about the housing prices; this time the data set will contain examples with more features with respect with those we had before as they are showed in the tab below. \n",
    "\n",
    "| Size (sqft) | Number of Bedrooms  | Number of floors | Age of  Home | Price (1000s dollars)  |   \n",
    "| ----------------| ------------------- |----------------- |--------------|-------------- |  \n",
    "| 120            | 3                   | 1                | 20           | 350           |  \n",
    "| 85            | 2                   | 2                | 10           | 220           |  \n",
    "| 20             | 4                   | 1                | 5           | 540           |  \n",
    "| 150 | 3 | 2 | 30 | 300 |\n",
    "| 95 | 2 | 1 | 15 | 240 |"
   ]
  },
  {
   "cell_type": "code",
   "execution_count": 2,
   "id": "e3a72849-1b68-47c4-8571-635e2e949d42",
   "metadata": {},
   "outputs": [],
   "source": [
    "# Features: [Size (m²), Bedrooms, Floors, Age of Home (yrs)]\n",
    "X_train = np.array([\n",
    "    [120, 3, 1, 20],\n",
    "    [85, 2, 2, 10],\n",
    "    [200, 4, 1, 5],\n",
    "    [150, 3, 2, 30],\n",
    "    [95, 2, 1, 15]\n",
    "])\n",
    "\n",
    "# Target: Price in thousands of euros\n",
    "y_train = np.array([350, 220, 540, 300, 240])\n"
   ]
  },
  {
   "cell_type": "markdown",
   "id": "c7e26a36-e662-4e4c-837f-663822d09aa9",
   "metadata": {},
   "source": [
    "Similar to the table above, examples are stored in a NumPy matrix `X_train`. Each row of the matrix represents one example. When you have $m$ training examples ( $m$ is five in our example), and there are $n$ features (four in our example), $\\mathbf{X}$ is a matrix with dimensions ($m$, $n$) (m rows, n columns).\n",
    "\n",
    "\n",
    "$$\\mathbf{X} = \n",
    "\\begin{pmatrix}\n",
    " x^{(0)}_0 & x^{(0)}_1 & \\cdots & x^{(0)}_{n-1} \\\\ \n",
    " x^{(1)}_0 & x^{(1)}_1 & \\cdots & x^{(1)}_{n-1} \\\\\n",
    " \\cdots \\\\\n",
    " x^{(m-1)}_0 & x^{(m-1)}_1 & \\cdots & x^{(m-1)}_{n-1} \n",
    "\\end{pmatrix}\n",
    "$$\n",
    "notation:\n",
    "- $\\mathbf{x}^{(i)}$ is vector containing example i. $\\mathbf{x}^{(i)}$ $ = (x^{(i)}_0, x^{(i)}_1, \\cdots,x^{(i)}_{n-1})$\n",
    "- $x^{(i)}_j$ is element j in example i. The superscript in parenthesis indicates the example number while the subscript represents an element.  \n",
    "\n",
    "Display the input data."
   ]
  },
  {
   "cell_type": "code",
   "execution_count": 3,
   "id": "0bdff2d3-8c27-40c8-93db-ef1af76f4ac2",
   "metadata": {},
   "outputs": [
    {
     "name": "stdout",
     "output_type": "stream",
     "text": [
      "X Shape: (5, 4), X Type:<class 'numpy.ndarray'>)\n",
      "[[120   3   1  20]\n",
      " [ 85   2   2  10]\n",
      " [200   4   1   5]\n",
      " [150   3   2  30]\n",
      " [ 95   2   1  15]]\n",
      "y Shape: (5,), y Type:<class 'numpy.ndarray'>)\n",
      "[350 220 540 300 240]\n"
     ]
    }
   ],
   "source": [
    "# data is stored in numpy array/matrix\n",
    "print(f\"X Shape: {X_train.shape}, X Type:{type(X_train)})\")\n",
    "print(X_train)\n",
    "print(f\"y Shape: {y_train.shape}, y Type:{type(y_train)})\")\n",
    "print(y_train)"
   ]
  },
  {
   "cell_type": "markdown",
   "id": "ca2faa2a-42a0-45bf-b3a1-21988a86dcda",
   "metadata": {},
   "source": [
    "* $\\mathbf{w}$ is a vector with $n$ elements.\n",
    "  - Each element contains the parameter associated with one feature.\n",
    "  - in our dataset, n is 4.\n",
    "  - notionally, we draw this as a column vector\n",
    "\n",
    "$$\\mathbf{w} = \\begin{pmatrix}\n",
    "w_0 \\\\ \n",
    "w_1 \\\\\n",
    "\\cdots\\\\\n",
    "w_{n-1}\n",
    "\\end{pmatrix}\n",
    "$$\n",
    "* $b$ is a scalar parameter.  "
   ]
  },
  {
   "cell_type": "markdown",
   "id": "74c46793-999c-4d17-ade6-b7697eecec00",
   "metadata": {},
   "source": [
    "For demonstration, $\\mathbf{w}$ and $b$ will be loaded with some initial selected values that are near the optimal. $\\mathbf{w}$ is a 1-D NumPy vector."
   ]
  },
  {
   "cell_type": "code",
   "execution_count": 15,
   "id": "66c42157-c3af-4290-bb1a-0648b712bfc9",
   "metadata": {},
   "outputs": [
    {
     "name": "stdout",
     "output_type": "stream",
     "text": [
      "w_init = [ 4.97 -1.38  6.48 15.23]\n",
      "b_init = -23.415337472333597\n",
      "w_init shape: (4,), b_init type: <class 'float'>\n"
     ]
    }
   ],
   "source": [
    "# same features as before: [size, bedrooms, floors, age]\n",
    "np.random.seed(42)  # just for reproducibility\n",
    "\n",
    "w_init = np.random.randn(4) * 10  # random weights with moderate scale\n",
    "b_init = np.random.randn() * 100   # random bias\n",
    "\n",
    "print(f\"w_init = {w_init}\")\n",
    "print(f\"b_init = {b_init}\")\n",
    "print(f\"w_init shape: {w_init.shape}, b_init type: {type(b_init)}\")\n"
   ]
  },
  {
   "cell_type": "markdown",
   "id": "6e5271de-15c4-4cf3-a728-9cfba435ac8c",
   "metadata": {},
   "source": [
    "The model's prediction with multiple variables is given by the linear model:\n",
    "\n",
    "$$ f_{\\mathbf{w},b}(\\mathbf{x}) =  w_0x_0 + w_1x_1 +... + w_{n-1}x_{n-1} + b \\tag{1}$$\n",
    "or in vector notation:\n",
    "$$ f_{\\mathbf{w},b}(\\mathbf{x}) = \\mathbf{w} \\cdot \\mathbf{x} + b  \\tag{2} $$ \n",
    "where $\\cdot$ is a vector `dot product`"
   ]
  },
  {
   "cell_type": "code",
   "execution_count": 16,
   "id": "2fa157b6-5d91-40ba-b5f4-8107633b1b2c",
   "metadata": {},
   "outputs": [],
   "source": [
    "#lets define a predict function using np.dot routine from numpy library\n",
    "\n",
    "def predict(x, w, b):\n",
    "    \"\"\"\n",
    "    This function gets as parameters a set of features x, a set of weights for each feature and the bias term\n",
    "    returns a prediction (scalar)\n",
    "    \"\"\"\n",
    "    p = np.dot(w,x) + b\n",
    "    return p"
   ]
  },
  {
   "cell_type": "code",
   "execution_count": 17,
   "id": "556e3e80-cc1c-4337-8861-5952ac28b75a",
   "metadata": {},
   "outputs": [
    {
     "name": "stdout",
     "output_type": "stream",
     "text": [
      "printing out the first row of the data set just defined [120   3   1  20]\n",
      "printing out the third row of the data just defined [150   3   2  30]\n",
      "The shape of the two vectors just defined is (4,) and (4,)\n"
     ]
    }
   ],
   "source": [
    "#to test the function just defined we can start by picking a row of our dataset\n",
    "x_vector_0 = X_train[0,:]\n",
    "\n",
    "print(f\"printing out the first row of the data set just defined {x_vector_0}\")\n",
    "\n",
    "\n",
    "x_vector_3 = X_train[3, :]\n",
    "print(f\"printing out the third row of the data just defined {x_vector_3}\")\n",
    "\n",
    "print(f\"The shape of the two vectors just defined is {x_vector_0.shape} and {x_vector_3.shape}\")\n"
   ]
  },
  {
   "cell_type": "code",
   "execution_count": 18,
   "id": "eb7f956b-22c2-41d5-85f0-ce43dc26d08e",
   "metadata": {},
   "outputs": [
    {
     "name": "stdout",
     "output_type": "stream",
     "text": [
      "The shape of f_wb is () and its values is 879.5765737686221\n"
     ]
    }
   ],
   "source": [
    "#now to make a prediction using the function we just defined we can do\n",
    "f_wb = predict(x_vector_0, w_init, b_init)\n",
    "\n",
    "print(f\"The shape of f_wb is {f_wb.shape} and its values is {f_wb}\")"
   ]
  },
  {
   "cell_type": "markdown",
   "id": "95a69e8a-2904-4ee5-9e12-68af563c38bd",
   "metadata": {},
   "source": [
    "The equation for the cost function with multiple variables $J(\\mathbf{w},b)$ is:\n",
    "$$J(\\mathbf{w},b) = \\frac{1}{2m} \\sum\\limits_{i = 0}^{m-1} (f_{\\mathbf{w},b}(\\mathbf{x}^{(i)}) - y^{(i)})^2 \\tag{3}$$ \n",
    "where:\n",
    "$$ f_{\\mathbf{w},b}(\\mathbf{x}^{(i)}) = \\mathbf{w} \\cdot \\mathbf{x}^{(i)} + b  \\tag{4} $$ \n",
    "\n",
    "\n",
    "In contrast to previous labs, $\\mathbf{w}$ and $\\mathbf{x}^{(i)}$ are vectors rather than scalars supporting multiple features."
   ]
  },
  {
   "cell_type": "code",
   "execution_count": 26,
   "id": "b57e54b6-2d74-49ac-896e-167580efb6cc",
   "metadata": {},
   "outputs": [],
   "source": [
    "def compute_cost(X, y, w, b):\n",
    "    \"\"\"\n",
    "    X is the dataset containing m samples of n features with shape (m, n)\n",
    "    w is the set of weights and has shape (n,)\n",
    "    b is the bias parameters\n",
    "    y are the target values with shape (m,)\n",
    "    The function returns a (scalar) cost\n",
    "    \"\"\"\n",
    "\n",
    "    m = X.shape[0] #initializing m as the number of rows in our dataset (each row represents a set of data)\n",
    "    cost = 0.0\n",
    "    for i in range(m): #so that we can iterate over the number of samples passed to it\n",
    "        f_wb_i = np.dot(X[i], w) + b\n",
    "        cost = cost + (f_wb_i - y[i])**2\n",
    "    total_cost = cost/(2*m)\n",
    "    return total_cost"
   ]
  },
  {
   "cell_type": "code",
   "execution_count": 27,
   "id": "38912f5f-461e-4e45-a2a6-88051477269d",
   "metadata": {},
   "outputs": [
    {
     "name": "stdout",
     "output_type": "stream",
     "text": [
      "Cost at optimal w : 163566.77046299152\n"
     ]
    }
   ],
   "source": [
    "# Compute and display cost using our pre-chosen optimal parameters. \n",
    "cost = compute_cost(X_train, y_train, w_init, b_init)\n",
    "print(f'Cost at optimal w : {cost}')"
   ]
  },
  {
   "cell_type": "markdown",
   "id": "98ea9a3d-fbe2-4e01-9c7d-00226852693c",
   "metadata": {},
   "source": [
    "It has to be noted that $\\vec{w}$, altough it is a vector, doesn't need to be indexed like the training example $\\vec{X[i]}$ does; this comes from the fact that $\\vec{w}$ is a set of values corresponding to each *feature* specifically whereas the $\\vec{X[i]}$ identifies a specific row of our dataset instead. So in the loop we don't need to index $\\vec{w}$ and the np.dot function automatically associates each value for that row we selected ($\\vec{X[i]}$) with the values inside the weight vector $\\vec{w}$."
   ]
  },
  {
   "cell_type": "markdown",
   "id": "3b940bb6-5f88-4893-b5fc-c99e003e71c5",
   "metadata": {},
   "source": [
    "Gradient descent for multiple variables:\n",
    "\n",
    "$$\\begin{align*} \\text{repeat}&\\text{ until convergence:} \\; \\lbrace \\newline\\;\n",
    "& w_j = w_j -  \\alpha \\frac{\\partial J(\\mathbf{w},b)}{\\partial w_j} \\tag{5}  \\; & \\text{for j = 0..n-1}\\newline\n",
    "&b\\ \\ = b -  \\alpha \\frac{\\partial J(\\mathbf{w},b)}{\\partial b}  \\newline \\rbrace\n",
    "\\end{align*}$$\n",
    "\n",
    "where, n is the number of features, parameters $w_j$,  $b$, are updated simultaneously and where  \n",
    "\n",
    "$$\n",
    "\\begin{align}\n",
    "\\frac{\\partial J(\\mathbf{w},b)}{\\partial w_j}  &= \\frac{1}{m} \\sum\\limits_{i = 0}^{m-1} (f_{\\mathbf{w},b}(\\mathbf{x}^{(i)}) - y^{(i)})x_{j}^{(i)} \\tag{6}  \\\\\n",
    "\\frac{\\partial J(\\mathbf{w},b)}{\\partial b}  &= \\frac{1}{m} \\sum\\limits_{i = 0}^{m-1} (f_{\\mathbf{w},b}(\\mathbf{x}^{(i)}) - y^{(i)}) \\tag{7}\n",
    "\\end{align}\n",
    "$$\n",
    "* m is the number of training examples in the data set\n",
    "\n",
    "    \n",
    "*  $f_{\\mathbf{w},b}(\\mathbf{x}^{(i)})$ is the model's prediction, while $y^{(i)}$ is the target value\n"
   ]
  },
  {
   "cell_type": "markdown",
   "id": "2591ce32-4898-41ff-9fc7-17e8a5552e2f",
   "metadata": {},
   "source": [
    "An implementation for calculating the equations (6) and (7) is below. There are many ways to implement this. In this version, there is an\n",
    "- outer loop over all m examples. \n",
    "    - $\\frac{\\partial J(\\mathbf{w},b)}{\\partial b}$ for the example can be computed directly and accumulated\n",
    "    - in a second loop over all n features:\n",
    "        - $\\frac{\\partial J(\\mathbf{w},b)}{\\partial w_j}$ is computed for each $w_j$."
   ]
  },
  {
   "cell_type": "code",
   "execution_count": 43,
   "id": "13929057-95af-4c09-a7c2-92dac362bc86",
   "metadata": {},
   "outputs": [],
   "source": [
    "def compute_gradient(X, y, w, b):\n",
    "    \"\"\"\n",
    "    X array with m examples and n features (our matrix m rows by n columns)\n",
    "    y array of target values m (one for each sample in our dataset)\n",
    "    w array of weights for each feature so has size n\n",
    "    b bias term\n",
    "    The function returns:\n",
    "    dj_dw which has the same dimensions of w (n, )\n",
    "    dj_db which is a scalar \n",
    "    \"\"\"\n",
    "    m, n = X.shape \n",
    "    #this time we dont have to specify X[0] to state that we are referring to a single column\n",
    "    #in this way we are able to specify that m has to cover the first dimension of our data set: m the number of samples\n",
    "    #and n will cover the second dimension of our dataset X which belongs to the number of features\n",
    "    dj_dw = np.zeros((n, ))\n",
    "    dj_db = 0.\n",
    "    for i in range(m):\n",
    "        deviation = (np.dot(X[i], w) + b) - y[i] #loop over each sample\n",
    "        for j in range(n): #loop over each feature\n",
    "            dj_dw[j] = dj_dw[j] + deviation*X[i, j]\n",
    "        dj_db = dj_db + deviation\n",
    "    dj_dw = dj_dw/m\n",
    "    dj_db = dj_db/m\n",
    "    return dj_dw, dj_db"
   ]
  },
  {
   "cell_type": "code",
   "execution_count": 44,
   "id": "d96f1c48-d3b4-4d43-a5f3-a92a05f3757a",
   "metadata": {},
   "outputs": [
    {
     "name": "stdout",
     "output_type": "stream",
     "text": [
      "dj_db at initial w,b: [73789.16  1568.62   786.92  9954.1 ]\n",
      "dj_dw at initial w,b: \n",
      " 541.1940775681694\n"
     ]
    }
   ],
   "source": [
    "#Compute and display gradient \n",
    "tmp_dj_db, tmp_dj_dw = compute_gradient(X_train, y_train, w_init, b_init)\n",
    "print(f'dj_db at initial w,b: {tmp_dj_db}')\n",
    "print(f'dj_dw at initial w,b: \\n {tmp_dj_dw}')"
   ]
  },
  {
   "cell_type": "code",
   "execution_count": 45,
   "id": "17529997-8df8-474d-9cfa-30a5d2886a89",
   "metadata": {},
   "outputs": [],
   "source": [
    "def gradient_descent(X, y, w_in, b_in, cost_function, gradient_function, alpha, num_iterations):\n",
    "    \"\"\"\n",
    "    Performs batch gradient descent to estimate w and b\n",
    "    w and b are updated a number of iterations equal to num_iterations with learning rate alpha\n",
    "    X is the set of data with m samples of n features\n",
    "    y is an array of dimensions (m, ) of target values\n",
    "    w_in is an array of dimensions (n, ) of initial model parameters\n",
    "    b_in is a scalar bias model parameter\n",
    "    gradient_function is the function to compute the gradient (we just defined compute_gradient)\n",
    "    alpha is a paramteter called the learning rate alpha\n",
    "    num_iterations is the number of iterations to run the gradient descent\n",
    "    This function returns updated values for both w and b\n",
    "    \"\"\"\n",
    "    J_history = [] #we initialize an array to store the values of J at each iteration to display them later\n",
    "    w = copy.deepcopy(w_in) #to avoid modifying the global w within the function\n",
    "    b = b_in\n",
    "\n",
    "    for i in range(num_iterations):\n",
    "        dj_dw, dj_db = compute_gradient(X, y, w, b)\n",
    "        #update parameters\n",
    "        w = w - alpha * dj_dw\n",
    "        b = b - alpha * dj_db\n",
    "\n",
    "        if i<100000:\n",
    "            J_history.append(cost_function(X, y, w, b))\n",
    "        # Print cost every at intervals 10 times or as many iterations if < 10\n",
    "        if i% math.ceil(num_iterations / 10) == 0:\n",
    "            print(f\"Iteration {i:4d}: Cost {J_history[-1]:8.2f}   \")\n",
    "        \n",
    "    return w, b, J_history #return final w,b and J history for graphing"
   ]
  },
  {
   "cell_type": "code",
   "execution_count": 47,
   "id": "7bcbbec6-33c7-44f3-b0be-ddfbd542f365",
   "metadata": {},
   "outputs": [
    {
     "name": "stdout",
     "output_type": "stream",
     "text": [
      "Iteration    0: Cost 58768.73   \n",
      "Iteration  100: Cost  2313.47   \n",
      "Iteration  200: Cost  1053.51   \n",
      "Iteration  300: Cost  1017.49   \n",
      "Iteration  400: Cost  1008.79   \n",
      "Iteration  500: Cost  1000.85   \n",
      "Iteration  600: Cost   993.09   \n",
      "Iteration  700: Cost   985.50   \n",
      "Iteration  800: Cost   978.07   \n",
      "Iteration  900: Cost   970.80   \n",
      "b,w found by gradient descent: 0.02,[ 2.54  0.06  0.01 -0.  ] \n",
      "prediction: 304.49, target value: 350\n",
      "prediction: 215.70, target value: 220\n",
      "prediction: 507.49, target value: 540\n",
      "prediction: 380.56, target value: 300\n",
      "prediction: 241.04, target value: 240\n"
     ]
    }
   ],
   "source": [
    "# initialize parameters\n",
    "initial_w = np.zeros_like(w_init)\n",
    "initial_b = 0.\n",
    "# some gradient descent settings\n",
    "iterations = 1000\n",
    "alpha = 1.0e-6\n",
    "# run gradient descent \n",
    "w_final, b_final, J_hist = gradient_descent(X_train, y_train, initial_w, initial_b,\n",
    "                                                    compute_cost, compute_gradient, \n",
    "                                                    alpha, iterations)\n",
    "print(f\"b,w found by gradient descent: {b_final:0.2f},{w_final} \")\n",
    "m,_ = X_train.shape\n",
    "for i in range(m):\n",
    "    print(f\"prediction: {np.dot(X_train[i], w_final) + b_final:0.2f}, target value: {y_train[i]}\")"
   ]
  },
  {
   "cell_type": "code",
   "execution_count": 52,
   "id": "056e881e-9828-417c-96b9-8e0f7deb7f7e",
   "metadata": {},
   "outputs": [
    {
     "data": {
      "image/png": "[encoded data removed]",
      "text/plain": [
       "<Figure size 1200x400 with 2 Axes>"
      ]
     },
     "metadata": {},
     "output_type": "display_data"
    }
   ],
   "source": [
    "# plot cost versus iteration  \n",
    "fig, (ax1, ax2) = plt.subplots(1, 2, constrained_layout=True, figsize=(12, 4))\n",
    "\n",
    "# full curve\n",
    "ax1.plot(J_hist)\n",
    "ax1.set_title(\"Cost vs. iteration (full)\")\n",
    "ax1.set_xlabel('Iteration')\n",
    "ax1.set_ylabel('Cost')\n",
    "\n",
    "# tail curve — zoom in on last 20% of iterations\n",
    "tail_start = int(len(J_hist) * 0.8)\n",
    "ax2.plot(np.arange(tail_start, len(J_hist)), J_hist[tail_start:])\n",
    "ax2.set_title(\"Cost vs. iteration (tail zoom)\")\n",
    "ax2.set_xlabel('Iteration')\n",
    "ax2.set_ylabel('Cost')\n",
    "\n",
    "plt.show()"
   ]
  },
  {
   "cell_type": "code",
   "execution_count": null,
   "id": "6462328f-3127-46af-8a49-81a675a17159",
   "metadata": {},
   "outputs": [],
   "source": []
  }
 ],
 "metadata": {
  "kernelspec": {
   "display_name": "Python 3 (ipykernel)",
   "language": "python",
   "name": "python3"
  },
  "language_info": {
   "codemirror_mode": {
    "name": "ipython",
    "version": 3
   },
   "file_extension": ".py",
   "mimetype": "text/x-python",
   "name": "python",
   "nbconvert_exporter": "python",
   "pygments_lexer": "ipython3",
   "version": "3.11.13"
  }
 },
 "nbformat": 4,
 "nbformat_minor": 5
}
